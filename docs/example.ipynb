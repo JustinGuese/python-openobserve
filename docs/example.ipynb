{
 "cells": [
  {
   "cell_type": "markdown",
   "metadata": {},
   "source": [
    "# Example notebook with python_openobserve\n",
    "\n",
    "SPDX-FileCopyrightText: 2025 The python_openobserve authors\n",
    "SPDX-License-Identifier: CC-BY-SA-4.0"
   ]
  },
  {
   "cell_type": "code",
   "execution_count": 1,
   "metadata": {},
   "outputs": [],
   "source": [
    "from python_openobserve.python_openobserve.openobserve import OpenObserve\n",
    "# from python_openobserve.openobserve import OpenObserve"
   ]
  },
  {
   "cell_type": "code",
   "execution_count": 2,
   "metadata": {},
   "outputs": [],
   "source": [
    "OO = OpenObserve(user = \"root@example.com\", password = \"Complexpass#123\")"
   ]
  },
  {
   "cell_type": "code",
   "execution_count": 3,
   "metadata": {},
   "outputs": [
    {
     "name": "stdout",
     "output_type": "stream",
     "text": [
      "{'@timestamp': datetime.datetime(2023, 7, 7, 9, 4, 59, 690455),\n",
      " 'action': 'buy',\n",
      " 'amount': 35.05436590293998,\n",
      " 'component': 'testagent',\n",
      " 'portfolio': {'BTC': 0.1180335246898746, 'USD': 43.87238795037881}}\n"
     ]
    }
   ],
   "source": [
    "from datetime import datetime\n",
    "from random import random\n",
    "from pprint import pprint\n",
    "document = {\n",
    "    \"@timestamp\" : datetime.utcnow(),\n",
    "    \"component\" : \"testagent\",\n",
    "    \"action\" : \"buy\", \n",
    "    \"amount\" : random() * 100,\n",
    "    \"portfolio\" : {\n",
    "        \"USD\" : random() * 100.0,\n",
    "        \"BTC\" : 0.1 + random() * 0.1\n",
    "    }\n",
    "}\n",
    "pprint(document)"
   ]
  },
  {
   "cell_type": "code",
   "execution_count": 4,
   "metadata": {},
   "outputs": [
    {
     "data": {
      "text/plain": [
       "{'code': 200, 'status': [{'name': 'dd', 'successful': 1, 'failed': 0}]}"
      ]
     },
     "execution_count": 4,
     "metadata": {},
     "output_type": "execute_result"
    }
   ],
   "source": [
    "OO.index(\"dd\", document)"
   ]
  },
  {
   "cell_type": "code",
   "execution_count": 5,
   "metadata": {},
   "outputs": [
    {
     "name": "stdout",
     "output_type": "stream",
     "text": [
      "got 5 results\n",
      "[{'_timestamp': datetime.datetime(2023, 7, 7, 9, 4, 59, 690000),\n",
      "  'action': 'buy',\n",
      "  'amount': 35.05436590293998,\n",
      "  'component': 'testagent',\n",
      "  'portfolio_btc': 0.1180335246898746,\n",
      "  'portfolio_usd': 43.87238795037881},\n",
      " {'_timestamp': datetime.datetime(2023, 7, 7, 9, 4, 34, 25000),\n",
      "  'action': 'buy',\n",
      "  'amount': 28.92515313993329,\n",
      "  'component': 'testagent',\n",
      "  'portfolio_btc': 0.16773784461846658,\n",
      "  'portfolio_usd': 76.39125746521223},\n",
      " {'_timestamp': datetime.datetime(2023, 7, 7, 9, 3, 37, 357000),\n",
      "  'action': 'buy',\n",
      "  'amount': 61.349813817835496,\n",
      "  'component': 'testagent',\n",
      "  'portfolio_btc': 0.12675689460641565,\n",
      "  'portfolio_usd': 12.473420458618143},\n",
      " {'_timestamp': datetime.datetime(2023, 7, 7, 9, 3, 24, 846000),\n",
      "  'action': 'buy',\n",
      "  'amount': 58.31903919643177,\n",
      "  'component': 'testagent',\n",
      "  'portfolio_btc': 0.14320411082698645,\n",
      "  'portfolio_usd': 48.26752483107259},\n",
      " {'_timestamp': datetime.datetime(2023, 7, 7, 9, 2, 56),\n",
      "  'action': 'buy',\n",
      "  'amount': 94.61296936600242,\n",
      "  'component': 'testagent',\n",
      "  'portfolio_btc': 0.19542728256708897,\n",
      "  'portfolio_usd': 71.45573592555233}]\n"
     ]
    }
   ],
   "source": [
    "# example sql parsing helper\n",
    "sql = 'SELECT * FROM \"dd\"'\n",
    "results = OO.search(sql)\n",
    "print(f\"got {len(results)} results\")\n",
    "pprint(results)"
   ]
  },
  {
   "cell_type": "code",
   "execution_count": 6,
   "metadata": {},
   "outputs": [
    {
     "data": {
      "text/html": [
       "<div>\n",
       "<style scoped>\n",
       "    .dataframe tbody tr th:only-of-type {\n",
       "        vertical-align: middle;\n",
       "    }\n",
       "\n",
       "    .dataframe tbody tr th {\n",
       "        vertical-align: top;\n",
       "    }\n",
       "\n",
       "    .dataframe thead th {\n",
       "        text-align: right;\n",
       "    }\n",
       "</style>\n",
       "<table border=\"1\" class=\"dataframe\">\n",
       "  <thead>\n",
       "    <tr style=\"text-align: right;\">\n",
       "      <th></th>\n",
       "      <th>_timestamp</th>\n",
       "      <th>action</th>\n",
       "      <th>amount</th>\n",
       "      <th>component</th>\n",
       "      <th>portfolio_btc</th>\n",
       "      <th>portfolio_usd</th>\n",
       "    </tr>\n",
       "  </thead>\n",
       "  <tbody>\n",
       "    <tr>\n",
       "      <th>0</th>\n",
       "      <td>2023-07-07 09:04:59.690</td>\n",
       "      <td>buy</td>\n",
       "      <td>35.054366</td>\n",
       "      <td>testagent</td>\n",
       "      <td>0.118034</td>\n",
       "      <td>43.872388</td>\n",
       "    </tr>\n",
       "    <tr>\n",
       "      <th>1</th>\n",
       "      <td>2023-07-07 09:04:34.025</td>\n",
       "      <td>buy</td>\n",
       "      <td>28.925153</td>\n",
       "      <td>testagent</td>\n",
       "      <td>0.167738</td>\n",
       "      <td>76.391257</td>\n",
       "    </tr>\n",
       "    <tr>\n",
       "      <th>2</th>\n",
       "      <td>2023-07-07 09:03:37.357</td>\n",
       "      <td>buy</td>\n",
       "      <td>61.349814</td>\n",
       "      <td>testagent</td>\n",
       "      <td>0.126757</td>\n",
       "      <td>12.473420</td>\n",
       "    </tr>\n",
       "    <tr>\n",
       "      <th>3</th>\n",
       "      <td>2023-07-07 09:03:24.846</td>\n",
       "      <td>buy</td>\n",
       "      <td>58.319039</td>\n",
       "      <td>testagent</td>\n",
       "      <td>0.143204</td>\n",
       "      <td>48.267525</td>\n",
       "    </tr>\n",
       "    <tr>\n",
       "      <th>4</th>\n",
       "      <td>2023-07-07 09:02:56.000</td>\n",
       "      <td>buy</td>\n",
       "      <td>94.612969</td>\n",
       "      <td>testagent</td>\n",
       "      <td>0.195427</td>\n",
       "      <td>71.455736</td>\n",
       "    </tr>\n",
       "  </tbody>\n",
       "</table>\n",
       "</div>"
      ],
      "text/plain": [
       "               _timestamp action     amount  component  portfolio_btc  \\\n",
       "0 2023-07-07 09:04:59.690    buy  35.054366  testagent       0.118034   \n",
       "1 2023-07-07 09:04:34.025    buy  28.925153  testagent       0.167738   \n",
       "2 2023-07-07 09:03:37.357    buy  61.349814  testagent       0.126757   \n",
       "3 2023-07-07 09:03:24.846    buy  58.319039  testagent       0.143204   \n",
       "4 2023-07-07 09:02:56.000    buy  94.612969  testagent       0.195427   \n",
       "\n",
       "   portfolio_usd  \n",
       "0      43.872388  \n",
       "1      76.391257  \n",
       "2      12.473420  \n",
       "3      48.267525  \n",
       "4      71.455736  "
      ]
     },
     "execution_count": 6,
     "metadata": {},
     "output_type": "execute_result"
    }
   ],
   "source": [
    "import pandas as pd\n",
    "\n",
    "df = pd.DataFrame(results)\n",
    "df.head(20)"
   ]
  },
  {
   "cell_type": "code",
   "execution_count": 7,
   "metadata": {},
   "outputs": [
    {
     "ename": "ParseError",
     "evalue": "Expected table name but got <Token token_type: TokenType.WHERE, text: WHERE, line: 1, col: 19, start: 14, end: 18, comments: []>. Line 1, Col: 19.\n  SELECT * FROM \u001b[4mWHERE\u001b[0m \"dd\"",
     "output_type": "error",
     "traceback": [
      "\u001b[0;31m---------------------------------------------------------------------------\u001b[0m",
      "\u001b[0;31mParseError\u001b[0m                                Traceback (most recent call last)",
      "Cell \u001b[0;32mIn[7], line 3\u001b[0m\n\u001b[1;32m      1\u001b[0m \u001b[39m# example sql parsing helper\u001b[39;00m\n\u001b[1;32m      2\u001b[0m sql \u001b[39m=\u001b[39m \u001b[39m'\u001b[39m\u001b[39mSELECT * FROM WHERE \u001b[39m\u001b[39m\"\u001b[39m\u001b[39mdd\u001b[39m\u001b[39m\"\u001b[39m\u001b[39m'\u001b[39m\n\u001b[0;32m----> 3\u001b[0m result \u001b[39m=\u001b[39m OO\u001b[39m.\u001b[39;49msearch(sql)\n\u001b[1;32m      4\u001b[0m pprint(result)\n",
      "File \u001b[0;32m~/code/python-openobserve/python_openobserve/python_openobserve/openobserve.py:74\u001b[0m, in \u001b[0;36mOpenObserve.search\u001b[0;34m(self, sql, start_time, end_time)\u001b[0m\n\u001b[1;32m     72\u001b[0m     sqlglot\u001b[39m.\u001b[39mtranspile(sql)\n\u001b[1;32m     73\u001b[0m \u001b[39mexcept\u001b[39;00m sqlglot\u001b[39m.\u001b[39merrors\u001b[39m.\u001b[39mParseError \u001b[39mas\u001b[39;00m e:\n\u001b[0;32m---> 74\u001b[0m     \u001b[39mraise\u001b[39;00m e\n\u001b[1;32m     76\u001b[0m query \u001b[39m=\u001b[39m {\u001b[39m\"\u001b[39m\u001b[39mquery\u001b[39m\u001b[39m\"\u001b[39m : {\n\u001b[1;32m     77\u001b[0m             \u001b[39m\"\u001b[39m\u001b[39msql\u001b[39m\u001b[39m\"\u001b[39m: sql,\n\u001b[1;32m     78\u001b[0m             \u001b[39m\"\u001b[39m\u001b[39mstart\u001b[39m\u001b[39m\"\u001b[39m: start_time,\n\u001b[1;32m     79\u001b[0m             \u001b[39m\"\u001b[39m\u001b[39mend\u001b[39m\u001b[39m\"\u001b[39m: end_time\n\u001b[1;32m     80\u001b[0m         }}\n\u001b[1;32m     81\u001b[0m res \u001b[39m=\u001b[39m requests\u001b[39m.\u001b[39mpost(\u001b[39mself\u001b[39m\u001b[39m.\u001b[39mopenobserve_url\u001b[39m.\u001b[39mreplace(\u001b[39m\"\u001b[39m\u001b[39m/[STREAM]\u001b[39m\u001b[39m\"\u001b[39m, \u001b[39m\"\u001b[39m\u001b[39m\"\u001b[39m) \u001b[39m+\u001b[39m \u001b[39m\"\u001b[39m\u001b[39m/_search\u001b[39m\u001b[39m\"\u001b[39m, json \u001b[39m=\u001b[39m query, headers\u001b[39m=\u001b[39m\u001b[39mself\u001b[39m\u001b[39m.\u001b[39mheaders)\n",
      "File \u001b[0;32m~/code/python-openobserve/python_openobserve/python_openobserve/openobserve.py:72\u001b[0m, in \u001b[0;36mOpenObserve.search\u001b[0;34m(self, sql, start_time, end_time)\u001b[0m\n\u001b[1;32m     70\u001b[0m \u001b[39m# verify sql\u001b[39;00m\n\u001b[1;32m     71\u001b[0m \u001b[39mtry\u001b[39;00m:\n\u001b[0;32m---> 72\u001b[0m     sqlglot\u001b[39m.\u001b[39;49mtranspile(sql)\n\u001b[1;32m     73\u001b[0m \u001b[39mexcept\u001b[39;00m sqlglot\u001b[39m.\u001b[39merrors\u001b[39m.\u001b[39mParseError \u001b[39mas\u001b[39;00m e:\n\u001b[1;32m     74\u001b[0m     \u001b[39mraise\u001b[39;00m e\n",
      "File \u001b[0;32m~/miniconda3/lib/python3.11/site-packages/sqlglot/__init__.py:159\u001b[0m, in \u001b[0;36mtranspile\u001b[0;34m(sql, read, write, identity, error_level, **opts)\u001b[0m\n\u001b[1;32m    140\u001b[0m \u001b[39m\u001b[39m\u001b[39m\"\"\"\u001b[39;00m\n\u001b[1;32m    141\u001b[0m \u001b[39mParses the given SQL string in accordance with the source dialect and returns a list of SQL strings transformed\u001b[39;00m\n\u001b[1;32m    142\u001b[0m \u001b[39mto conform to the target dialect. Each string in the returned list represents a single transformed SQL statement.\u001b[39;00m\n\u001b[0;32m   (...)\u001b[0m\n\u001b[1;32m    154\u001b[0m \u001b[39m    The list of transpiled SQL statements.\u001b[39;00m\n\u001b[1;32m    155\u001b[0m \u001b[39m\"\"\"\u001b[39;00m\n\u001b[1;32m    156\u001b[0m write \u001b[39m=\u001b[39m (read \u001b[39mif\u001b[39;00m write \u001b[39mis\u001b[39;00m \u001b[39mNone\u001b[39;00m \u001b[39melse\u001b[39;00m write) \u001b[39mif\u001b[39;00m identity \u001b[39melse\u001b[39;00m write\n\u001b[1;32m    157\u001b[0m \u001b[39mreturn\u001b[39;00m [\n\u001b[1;32m    158\u001b[0m     Dialect\u001b[39m.\u001b[39mget_or_raise(write)()\u001b[39m.\u001b[39mgenerate(expression, \u001b[39m*\u001b[39m\u001b[39m*\u001b[39mopts)\n\u001b[0;32m--> 159\u001b[0m     \u001b[39mfor\u001b[39;00m expression \u001b[39min\u001b[39;00m parse(sql, read, error_level\u001b[39m=\u001b[39;49merror_level)\n\u001b[1;32m    160\u001b[0m ]\n",
      "File \u001b[0;32m~/miniconda3/lib/python3.11/site-packages/sqlglot/__init__.py:83\u001b[0m, in \u001b[0;36mparse\u001b[0;34m(sql, read, **opts)\u001b[0m\n\u001b[1;32m     71\u001b[0m \u001b[39m\u001b[39m\u001b[39m\"\"\"\u001b[39;00m\n\u001b[1;32m     72\u001b[0m \u001b[39mParses the given SQL string into a collection of syntax trees, one per parsed SQL statement.\u001b[39;00m\n\u001b[1;32m     73\u001b[0m \n\u001b[0;32m   (...)\u001b[0m\n\u001b[1;32m     80\u001b[0m \u001b[39m    The resulting syntax tree collection.\u001b[39;00m\n\u001b[1;32m     81\u001b[0m \u001b[39m\"\"\"\u001b[39;00m\n\u001b[1;32m     82\u001b[0m dialect \u001b[39m=\u001b[39m Dialect\u001b[39m.\u001b[39mget_or_raise(read)()\n\u001b[0;32m---> 83\u001b[0m \u001b[39mreturn\u001b[39;00m dialect\u001b[39m.\u001b[39;49mparse(sql, \u001b[39m*\u001b[39;49m\u001b[39m*\u001b[39;49mopts)\n",
      "File \u001b[0;32m~/miniconda3/lib/python3.11/site-packages/sqlglot/dialects/dialect.py:278\u001b[0m, in \u001b[0;36mDialect.parse\u001b[0;34m(self, sql, **opts)\u001b[0m\n\u001b[1;32m    277\u001b[0m \u001b[39mdef\u001b[39;00m \u001b[39mparse\u001b[39m(\u001b[39mself\u001b[39m, sql: \u001b[39mstr\u001b[39m, \u001b[39m*\u001b[39m\u001b[39m*\u001b[39mopts) \u001b[39m-\u001b[39m\u001b[39m>\u001b[39m t\u001b[39m.\u001b[39mList[t\u001b[39m.\u001b[39mOptional[exp\u001b[39m.\u001b[39mExpression]]:\n\u001b[0;32m--> 278\u001b[0m     \u001b[39mreturn\u001b[39;00m \u001b[39mself\u001b[39;49m\u001b[39m.\u001b[39;49mparser(\u001b[39m*\u001b[39;49m\u001b[39m*\u001b[39;49mopts)\u001b[39m.\u001b[39;49mparse(\u001b[39mself\u001b[39;49m\u001b[39m.\u001b[39;49mtokenize(sql), sql)\n",
      "File \u001b[0;32m~/miniconda3/lib/python3.11/site-packages/sqlglot/parser.py:877\u001b[0m, in \u001b[0;36mParser.parse\u001b[0;34m(self, raw_tokens, sql)\u001b[0m\n\u001b[1;32m    863\u001b[0m \u001b[39mdef\u001b[39;00m \u001b[39mparse\u001b[39m(\n\u001b[1;32m    864\u001b[0m     \u001b[39mself\u001b[39m, raw_tokens: t\u001b[39m.\u001b[39mList[Token], sql: t\u001b[39m.\u001b[39mOptional[\u001b[39mstr\u001b[39m] \u001b[39m=\u001b[39m \u001b[39mNone\u001b[39;00m\n\u001b[1;32m    865\u001b[0m ) \u001b[39m-\u001b[39m\u001b[39m>\u001b[39m t\u001b[39m.\u001b[39mList[t\u001b[39m.\u001b[39mOptional[exp\u001b[39m.\u001b[39mExpression]]:\n\u001b[1;32m    866\u001b[0m \u001b[39m    \u001b[39m\u001b[39m\"\"\"\u001b[39;00m\n\u001b[1;32m    867\u001b[0m \u001b[39m    Parses a list of tokens and returns a list of syntax trees, one tree\u001b[39;00m\n\u001b[1;32m    868\u001b[0m \u001b[39m    per parsed SQL statement.\u001b[39;00m\n\u001b[0;32m   (...)\u001b[0m\n\u001b[1;32m    875\u001b[0m \u001b[39m        The list of the produced syntax trees.\u001b[39;00m\n\u001b[1;32m    876\u001b[0m \u001b[39m    \"\"\"\u001b[39;00m\n\u001b[0;32m--> 877\u001b[0m     \u001b[39mreturn\u001b[39;00m \u001b[39mself\u001b[39;49m\u001b[39m.\u001b[39;49m_parse(\n\u001b[1;32m    878\u001b[0m         parse_method\u001b[39m=\u001b[39;49m\u001b[39mself\u001b[39;49m\u001b[39m.\u001b[39;49m\u001b[39m__class__\u001b[39;49m\u001b[39m.\u001b[39;49m_parse_statement, raw_tokens\u001b[39m=\u001b[39;49mraw_tokens, sql\u001b[39m=\u001b[39;49msql\n\u001b[1;32m    879\u001b[0m     )\n",
      "File \u001b[0;32m~/miniconda3/lib/python3.11/site-packages/sqlglot/parser.py:943\u001b[0m, in \u001b[0;36mParser._parse\u001b[0;34m(self, parse_method, raw_tokens, sql)\u001b[0m\n\u001b[1;32m    940\u001b[0m \u001b[39mself\u001b[39m\u001b[39m.\u001b[39m_tokens \u001b[39m=\u001b[39m tokens\n\u001b[1;32m    941\u001b[0m \u001b[39mself\u001b[39m\u001b[39m.\u001b[39m_advance()\n\u001b[0;32m--> 943\u001b[0m expressions\u001b[39m.\u001b[39mappend(parse_method(\u001b[39mself\u001b[39;49m))\n\u001b[1;32m    945\u001b[0m \u001b[39mif\u001b[39;00m \u001b[39mself\u001b[39m\u001b[39m.\u001b[39m_index \u001b[39m<\u001b[39m \u001b[39mlen\u001b[39m(\u001b[39mself\u001b[39m\u001b[39m.\u001b[39m_tokens):\n\u001b[1;32m    946\u001b[0m     \u001b[39mself\u001b[39m\u001b[39m.\u001b[39mraise_error(\u001b[39m\"\u001b[39m\u001b[39mInvalid expression / Unexpected token\u001b[39m\u001b[39m\"\u001b[39m)\n",
      "File \u001b[0;32m~/miniconda3/lib/python3.11/site-packages/sqlglot/parser.py:1133\u001b[0m, in \u001b[0;36mParser._parse_statement\u001b[0;34m(self)\u001b[0m\n\u001b[1;32m   1130\u001b[0m     \u001b[39mreturn\u001b[39;00m \u001b[39mself\u001b[39m\u001b[39m.\u001b[39m_parse_command()\n\u001b[1;32m   1132\u001b[0m expression \u001b[39m=\u001b[39m \u001b[39mself\u001b[39m\u001b[39m.\u001b[39m_parse_expression()\n\u001b[0;32m-> 1133\u001b[0m expression \u001b[39m=\u001b[39m \u001b[39mself\u001b[39m\u001b[39m.\u001b[39m_parse_set_operations(expression) \u001b[39mif\u001b[39;00m expression \u001b[39melse\u001b[39;00m \u001b[39mself\u001b[39;49m\u001b[39m.\u001b[39;49m_parse_select()\n\u001b[1;32m   1134\u001b[0m \u001b[39mreturn\u001b[39;00m \u001b[39mself\u001b[39m\u001b[39m.\u001b[39m_parse_query_modifiers(expression)\n",
      "File \u001b[0;32m~/miniconda3/lib/python3.11/site-packages/sqlglot/parser.py:1954\u001b[0m, in \u001b[0;36mParser._parse_select\u001b[0;34m(self, nested, table, parse_subquery_alias)\u001b[0m\n\u001b[1;32m   1951\u001b[0m \u001b[39mif\u001b[39;00m into:\n\u001b[1;32m   1952\u001b[0m     this\u001b[39m.\u001b[39mset(\u001b[39m\"\u001b[39m\u001b[39minto\u001b[39m\u001b[39m\"\u001b[39m, into)\n\u001b[0;32m-> 1954\u001b[0m from_ \u001b[39m=\u001b[39m \u001b[39mself\u001b[39;49m\u001b[39m.\u001b[39;49m_parse_from()\n\u001b[1;32m   1955\u001b[0m \u001b[39mif\u001b[39;00m from_:\n\u001b[1;32m   1956\u001b[0m     this\u001b[39m.\u001b[39mset(\u001b[39m\"\u001b[39m\u001b[39mfrom\u001b[39m\u001b[39m\"\u001b[39m, from_)\n",
      "File \u001b[0;32m~/miniconda3/lib/python3.11/site-packages/sqlglot/parser.py:2128\u001b[0m, in \u001b[0;36mParser._parse_from\u001b[0;34m(self, joins, skip_from_token)\u001b[0m\n\u001b[1;32m   2124\u001b[0m \u001b[39mif\u001b[39;00m \u001b[39mnot\u001b[39;00m skip_from_token \u001b[39mand\u001b[39;00m \u001b[39mnot\u001b[39;00m \u001b[39mself\u001b[39m\u001b[39m.\u001b[39m_match(TokenType\u001b[39m.\u001b[39mFROM):\n\u001b[1;32m   2125\u001b[0m     \u001b[39mreturn\u001b[39;00m \u001b[39mNone\u001b[39;00m\n\u001b[1;32m   2127\u001b[0m \u001b[39mreturn\u001b[39;00m \u001b[39mself\u001b[39m\u001b[39m.\u001b[39mexpression(\n\u001b[0;32m-> 2128\u001b[0m     exp\u001b[39m.\u001b[39mFrom, comments\u001b[39m=\u001b[39m\u001b[39mself\u001b[39m\u001b[39m.\u001b[39m_prev_comments, this\u001b[39m=\u001b[39m\u001b[39mself\u001b[39;49m\u001b[39m.\u001b[39;49m_parse_table(joins\u001b[39m=\u001b[39;49mjoins)\n\u001b[1;32m   2129\u001b[0m )\n",
      "File \u001b[0;32m~/miniconda3/lib/python3.11/site-packages/sqlglot/parser.py:2445\u001b[0m, in \u001b[0;36mParser._parse_table\u001b[0;34m(self, schema, joins, alias_tokens)\u001b[0m\n\u001b[1;32m   2442\u001b[0m         subquery\u001b[39m.\u001b[39mset(\u001b[39m\"\u001b[39m\u001b[39mpivots\u001b[39m\u001b[39m\"\u001b[39m, \u001b[39mself\u001b[39m\u001b[39m.\u001b[39m_parse_pivots())\n\u001b[1;32m   2443\u001b[0m     \u001b[39mreturn\u001b[39;00m subquery\n\u001b[0;32m-> 2445\u001b[0m this: exp\u001b[39m.\u001b[39mExpression \u001b[39m=\u001b[39m \u001b[39mself\u001b[39;49m\u001b[39m.\u001b[39;49m_parse_table_parts(schema\u001b[39m=\u001b[39;49mschema)\n\u001b[1;32m   2447\u001b[0m \u001b[39mif\u001b[39;00m schema:\n\u001b[1;32m   2448\u001b[0m     \u001b[39mreturn\u001b[39;00m \u001b[39mself\u001b[39m\u001b[39m.\u001b[39m_parse_schema(this\u001b[39m=\u001b[39mthis)\n",
      "File \u001b[0;32m~/miniconda3/lib/python3.11/site-packages/sqlglot/parser.py:2415\u001b[0m, in \u001b[0;36mParser._parse_table_parts\u001b[0;34m(self, schema)\u001b[0m\n\u001b[1;32m   2412\u001b[0m         table \u001b[39m=\u001b[39m \u001b[39mself\u001b[39m\u001b[39m.\u001b[39m_parse_table_part(schema\u001b[39m=\u001b[39mschema)\n\u001b[1;32m   2414\u001b[0m \u001b[39mif\u001b[39;00m \u001b[39mnot\u001b[39;00m table:\n\u001b[0;32m-> 2415\u001b[0m     \u001b[39mself\u001b[39;49m\u001b[39m.\u001b[39;49mraise_error(\u001b[39mf\u001b[39;49m\u001b[39m\"\u001b[39;49m\u001b[39mExpected table name but got \u001b[39;49m\u001b[39m{\u001b[39;49;00m\u001b[39mself\u001b[39;49m\u001b[39m.\u001b[39;49m_curr\u001b[39m}\u001b[39;49;00m\u001b[39m\"\u001b[39;49m)\n\u001b[1;32m   2417\u001b[0m \u001b[39mreturn\u001b[39;00m \u001b[39mself\u001b[39m\u001b[39m.\u001b[39mexpression(\n\u001b[1;32m   2418\u001b[0m     exp\u001b[39m.\u001b[39mTable, this\u001b[39m=\u001b[39mtable, db\u001b[39m=\u001b[39mdb, catalog\u001b[39m=\u001b[39mcatalog, pivots\u001b[39m=\u001b[39m\u001b[39mself\u001b[39m\u001b[39m.\u001b[39m_parse_pivots()\n\u001b[1;32m   2419\u001b[0m )\n",
      "File \u001b[0;32m~/miniconda3/lib/python3.11/site-packages/sqlglot/parser.py:987\u001b[0m, in \u001b[0;36mParser.raise_error\u001b[0;34m(self, message, token)\u001b[0m\n\u001b[1;32m    975\u001b[0m error \u001b[39m=\u001b[39m ParseError\u001b[39m.\u001b[39mnew(\n\u001b[1;32m    976\u001b[0m     \u001b[39mf\u001b[39m\u001b[39m\"\u001b[39m\u001b[39m{\u001b[39;00mmessage\u001b[39m}\u001b[39;00m\u001b[39m. Line \u001b[39m\u001b[39m{\u001b[39;00mtoken\u001b[39m.\u001b[39mline\u001b[39m}\u001b[39;00m\u001b[39m, Col: \u001b[39m\u001b[39m{\u001b[39;00mtoken\u001b[39m.\u001b[39mcol\u001b[39m}\u001b[39;00m\u001b[39m.\u001b[39m\u001b[39m\\n\u001b[39;00m\u001b[39m\"\u001b[39m\n\u001b[1;32m    977\u001b[0m     \u001b[39mf\u001b[39m\u001b[39m\"\u001b[39m\u001b[39m  \u001b[39m\u001b[39m{\u001b[39;00mstart_context\u001b[39m}\u001b[39;00m\u001b[39m\\033\u001b[39;00m\u001b[39m[4m\u001b[39m\u001b[39m{\u001b[39;00mhighlight\u001b[39m}\u001b[39;00m\u001b[39m\\033\u001b[39;00m\u001b[39m[0m\u001b[39m\u001b[39m{\u001b[39;00mend_context\u001b[39m}\u001b[39;00m\u001b[39m\"\u001b[39m,\n\u001b[0;32m   (...)\u001b[0m\n\u001b[1;32m    983\u001b[0m     end_context\u001b[39m=\u001b[39mend_context,\n\u001b[1;32m    984\u001b[0m )\n\u001b[1;32m    986\u001b[0m \u001b[39mif\u001b[39;00m \u001b[39mself\u001b[39m\u001b[39m.\u001b[39merror_level \u001b[39m==\u001b[39m ErrorLevel\u001b[39m.\u001b[39mIMMEDIATE:\n\u001b[0;32m--> 987\u001b[0m     \u001b[39mraise\u001b[39;00m error\n\u001b[1;32m    989\u001b[0m \u001b[39mself\u001b[39m\u001b[39m.\u001b[39merrors\u001b[39m.\u001b[39mappend(error)\n",
      "\u001b[0;31mParseError\u001b[0m: Expected table name but got <Token token_type: TokenType.WHERE, text: WHERE, line: 1, col: 19, start: 14, end: 18, comments: []>. Line 1, Col: 19.\n  SELECT * FROM \u001b[4mWHERE\u001b[0m \"dd\""
     ]
    }
   ],
   "source": [
    "# example sql parsing helper\n",
    "sql = 'SELECT * FROM WHERE \"dd\"'\n",
    "result = OO.search(sql)\n",
    "pprint(result)"
   ]
  }
 ],
 "metadata": {
  "kernelspec": {
   "display_name": "Python 3 (ipykernel)",
   "language": "python",
   "name": "python3"
  },
  "language_info": {
   "codemirror_mode": {
    "name": "ipython",
    "version": 3
   },
   "file_extension": ".py",
   "mimetype": "text/x-python",
   "name": "python",
   "nbconvert_exporter": "python",
   "pygments_lexer": "ipython3",
   "version": "3.13.3"
  }
 },
 "nbformat": 4,
 "nbformat_minor": 4
}
